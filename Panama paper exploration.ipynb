{
 "cells": [
  {
   "cell_type": "markdown",
   "metadata": {},
   "source": [
    "## Panama Papers Exploration\n",
    "This is an data exploration of panama papers. "
   ]
  },
  {
   "cell_type": "code",
   "execution_count": 1,
   "metadata": {
    "collapsed": true
   },
   "outputs": [],
   "source": [
    "import pandas as pd\n",
    "import numpy as np\n",
    "import matplotlib.pyplot as plt\n",
    "import seaborn as sns\n",
    "import random\n",
    "import networkx as nx\n",
    "\n",
    "%matplotlib inline"
   ]
  },
  {
   "cell_type": "markdown",
   "metadata": {},
   "source": [
    "## 1. Import data"
   ]
  },
  {
   "cell_type": "code",
   "execution_count": 2,
   "metadata": {
    "collapsed": false
   },
   "outputs": [],
   "source": [
    "adds = pd.read_csv('offshore_leaks_csvs-20170104/Addresses.csv',\\\n",
    "                   low_memory = False).set_index('node_id')\n",
    "ents = pd.read_csv('offshore_leaks_csvs-20170104/Entities.csv',\\\n",
    "                   low_memory = False).set_index('node_id')\n",
    "inter = pd.read_csv('offshore_leaks_csvs-20170104/Intermediaries.csv',\\\n",
    "                    low_memory = False).set_index('node_id')\n",
    "offi = pd.read_csv('offshore_leaks_csvs-20170104/Officers.csv',\\\n",
    "                   low_memory = False).set_index('node_id')\n",
    "edges = pd.read_csv('offshore_leaks_csvs-20170104/all_edges.csv',\\\n",
    "                    low_memory = False)"
   ]
  },
  {
   "cell_type": "markdown",
   "metadata": {},
   "source": [
    "## 2. Data preparation"
   ]
  },
  {
   "cell_type": "code",
   "execution_count": 3,
   "metadata": {
    "collapsed": true
   },
   "outputs": [],
   "source": [
    "# convert edge list to a network\n",
    "F = nx.from_pandas_dataframe(edges,'node_1','node_2')"
   ]
  },
  {
   "cell_type": "code",
   "execution_count": 4,
   "metadata": {
    "collapsed": true
   },
   "outputs": [],
   "source": [
    "# combine node list to one dataframe\n",
    "offi['type'] = 'officer'\n",
    "inter['type'] = 'intermediary'\n",
    "adds['type'] = 'address'\n",
    "ents['type'] = 'entity'"
   ]
  },
  {
   "cell_type": "code",
   "execution_count": 5,
   "metadata": {
    "collapsed": true
   },
   "outputs": [],
   "source": [
    "all = pd.concat([offi, inter, adds, ents])"
   ]
  },
  {
   "cell_type": "code",
   "execution_count": 6,
   "metadata": {
    "collapsed": false
   },
   "outputs": [
    {
     "name": "stdout",
     "output_type": "stream",
     "text": [
      "Index([u'address', u'company_type', u'countries', u'country_codes',\n",
      "       u'dorm_date', u'former_name', u'ibcRUC', u'icij_id',\n",
      "       u'inactivation_date', u'incorporation_date', u'internal_id',\n",
      "       u'jurisdiction', u'jurisdiction_description', u'name', u'note',\n",
      "       u'original_name', u'service_provider', u'sourceID', u'status',\n",
      "       u'struck_off_date', u'type', u'valid_until'],\n",
      "      dtype='object')\n"
     ]
    }
   ],
   "source": [
    "print all.columns"
   ]
  },
  {
   "cell_type": "code",
   "execution_count": 7,
   "metadata": {
    "collapsed": false
   },
   "outputs": [
    {
     "data": {
      "text/plain": [
       "(1041674, 22)"
      ]
     },
     "execution_count": 7,
     "metadata": {},
     "output_type": "execute_result"
    }
   ],
   "source": [
    "all.shape"
   ]
  },
  {
   "cell_type": "code",
   "execution_count": 8,
   "metadata": {
    "collapsed": true
   },
   "outputs": [],
   "source": [
    "# clean data and format\n",
    "all['name'] = all['name'].str.upper()\n",
    "all['name'] = all['name'].str.strip()\n",
    "all['name'].replace(to_replace=[r'MRS?\\.\\s+',r'\\.',r'\\s+',\\\n",
    "                                'LIMITED','THE BEARER'],\\\n",
    "                    value=['','',' ','LTD',np.nan],inplace=True, regex=True)"
   ]
  },
  {
   "cell_type": "markdown",
   "metadata": {},
   "source": [
    "## 3. Explore the data and network"
   ]
  },
  {
   "cell_type": "code",
   "execution_count": 9,
   "metadata": {
    "collapsed": true
   },
   "outputs": [],
   "source": [
    "# Deng Jiagui\n",
    "seeds = [12160401]\n",
    "tmp=[set(nx.single_source_shortest_path_length(F, x, cutoff=4).keys()) for x in seeds]\n",
    "nodes_of_interest = set.union(*tmp)"
   ]
  },
  {
   "cell_type": "code",
   "execution_count": 10,
   "metadata": {
    "collapsed": false
   },
   "outputs": [
    {
     "data": {
      "text/plain": [
       "1088"
      ]
     },
     "execution_count": 10,
     "metadata": {},
     "output_type": "execute_result"
    }
   ],
   "source": [
    "len(nodes_of_interest)"
   ]
  },
  {
   "cell_type": "code",
   "execution_count": 11,
   "metadata": {
    "collapsed": false
   },
   "outputs": [
    {
     "name": "stdout",
     "output_type": "stream",
     "text": [
      "Name: \n",
      "Type: Graph\n",
      "Number of nodes: 1088\n",
      "Number of edges: 1263\n",
      "Average degree:   2.3217\n"
     ]
    }
   ],
   "source": [
    "ego = nx.subgraph(F, nodes_of_interest)\n",
    "print nx.info(ego)"
   ]
  },
  {
   "cell_type": "code",
   "execution_count": 12,
   "metadata": {
    "collapsed": false
   },
   "outputs": [],
   "source": [
    "spring_pos = nx.spring_layout(ego)"
   ]
  },
  {
   "cell_type": "code",
   "execution_count": 13,
   "metadata": {
    "collapsed": false
   },
   "outputs": [
    {
     "data": {
      "image/png": "[encoded data removed]",
      "text/plain": [
       "<matplotlib.figure.Figure at 0x111789dd0>"
      ]
     },
     "metadata": {},
     "output_type": "display_data"
    }
   ],
   "source": [
    "plt.axis('off')\n",
    "nx.draw_networkx(ego,pos=spring_pos,with_labels=False,node_size=35)"
   ]
  }
 ],
 "metadata": {
  "kernelspec": {
   "display_name": "Python 2",
   "language": "python",
   "name": "python2"
  },
  "language_info": {
   "codemirror_mode": {
    "name": "ipython",
    "version": 2
   },
   "file_extension": ".py",
   "mimetype": "text/x-python",
   "name": "python",
   "nbconvert_exporter": "python",
   "pygments_lexer": "ipython2",
   "version": "2.7.12"
  }
 },
 "nbformat": 4,
 "nbformat_minor": 0
}
