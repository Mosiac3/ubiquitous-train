{
 "cells": [
  {
   "cell_type": "markdown",
   "metadata": {},
   "source": [
    "## Identifying Fraud Activities\n",
    "Company XYZ is an e-commerce site that sells hand-made clothes. Build a model that predicts whether a user has a high probability of using the site to perform some illegal activity or not. You only have information about the user first transaction on the site and based on that you have to make your classification(fraud or no fraud)."
   ]
  },
  {
   "cell_type": "markdown",
   "metadata": {},
   "source": [
    "These are the tasks you are asked to do:\n",
    "1. For each user, determine her country based on the numeric IP address.\n",
    "2. Build a model to predict whether an activity is fraudulent or not. Explain how different\n",
    "assumptions about the cost of false positives vs false negatives would impact the model.\n",
    "\n",
    "    Ans: High false positive means good transactions are interrupted and considered as fraud. This may increase the churn rate. High false negative means fraud activities are not caught. They company would loose money due to these transactions. \n",
    "\n",
    "3. Your boss is a bit worried about using a model she doesn't understand for something as\n",
    "important as fraud detection. How would you explain her how the model is making the\n",
    "predictions? Not from a mathematical perspective (she couldn't care less about that), but\n",
    "from a user perspective. What kinds of users are more likely to be classified as at risk?\n",
    "What are their characteristics?\n",
    "\n",
    "    Ans: The most important variable is the time between signing up and purchasing. The sooner that the user purchases an item after signing up, the more likely the transaction is a fraud.\n",
    "\n",
    "    The second import variable is the purchase amount. The less the transaction, the more likley it is a fraud.\n",
    "\n",
    "4. Let's say you now have this model which can be used live to predict in real time if an\n",
    "activity is fraudulent or not. From a product perspective, how would you use it? That is,\n",
    "what kind of different user experiences would you build based on the model output?\n",
    "\n",
    "    Ans: \n",
    "    A) if P(Fraud) < X, the user has a typical experience\n",
    "    B) if X <= P(Fraud) < Z, the user has a second verification step (verify phone number)\n",
    "    C) if P(Fraud >= Z, the user is referred to a person to manually verify the account"
   ]
  },
  {
   "cell_type": "code",
   "execution_count": 2,
   "metadata": {
    "collapsed": true
   },
   "outputs": [],
   "source": [
    "import pandas as pd\n",
    "import numpy as np\n",
    "import matplotlib.pyplot as plt\n",
    "%matplotlib inline\n",
    "import seaborn as sns"
   ]
  },
  {
   "cell_type": "markdown",
   "metadata": {},
   "source": [
    "## 1. Import data"
   ]
  },
  {
   "cell_type": "code",
   "execution_count": 3,
   "metadata": {
    "collapsed": true
   },
   "outputs": [],
   "source": [
    "data = pd.read_csv('Fraud/Fraud_Data.csv')\n",
    "IP = pd.read_csv('Fraud/IpAddress_to_Country.csv')"
   ]
  },
  {
   "cell_type": "code",
   "execution_count": 3,
   "metadata": {
    "collapsed": false
   },
   "outputs": [
    {
     "data": {
      "text/plain": [
       "(151112, 11)"
      ]
     },
     "execution_count": 3,
     "metadata": {},
     "output_type": "execute_result"
    }
   ],
   "source": [
    "data.shape"
   ]
  },
  {
   "cell_type": "code",
   "execution_count": 4,
   "metadata": {
    "collapsed": false
   },
   "outputs": [
    {
     "data": {
      "text/html": [
       "<div>\n",
       "<table border=\"1\" class=\"dataframe\">\n",
       "  <thead>\n",
       "    <tr style=\"text-align: right;\">\n",
       "      <th></th>\n",
       "      <th>user_id</th>\n",
       "      <th>signup_time</th>\n",
       "      <th>purchase_time</th>\n",
       "      <th>purchase_value</th>\n",
       "      <th>device_id</th>\n",
       "      <th>source</th>\n",
       "      <th>browser</th>\n",
       "      <th>sex</th>\n",
       "      <th>age</th>\n",
       "      <th>ip_address</th>\n",
       "      <th>class</th>\n",
       "    </tr>\n",
       "  </thead>\n",
       "  <tbody>\n",
       "    <tr>\n",
       "      <th>0</th>\n",
       "      <td>22058</td>\n",
       "      <td>2015-02-24 22:55:49</td>\n",
       "      <td>2015-04-18 02:47:11</td>\n",
       "      <td>34</td>\n",
       "      <td>QVPSPJUOCKZAR</td>\n",
       "      <td>SEO</td>\n",
       "      <td>Chrome</td>\n",
       "      <td>M</td>\n",
       "      <td>39</td>\n",
       "      <td>7.327584e+08</td>\n",
       "      <td>0</td>\n",
       "    </tr>\n",
       "    <tr>\n",
       "      <th>1</th>\n",
       "      <td>333320</td>\n",
       "      <td>2015-06-07 20:39:50</td>\n",
       "      <td>2015-06-08 01:38:54</td>\n",
       "      <td>16</td>\n",
       "      <td>EOGFQPIZPYXFZ</td>\n",
       "      <td>Ads</td>\n",
       "      <td>Chrome</td>\n",
       "      <td>F</td>\n",
       "      <td>53</td>\n",
       "      <td>3.503114e+08</td>\n",
       "      <td>0</td>\n",
       "    </tr>\n",
       "    <tr>\n",
       "      <th>2</th>\n",
       "      <td>1359</td>\n",
       "      <td>2015-01-01 18:52:44</td>\n",
       "      <td>2015-01-01 18:52:45</td>\n",
       "      <td>15</td>\n",
       "      <td>YSSKYOSJHPPLJ</td>\n",
       "      <td>SEO</td>\n",
       "      <td>Opera</td>\n",
       "      <td>M</td>\n",
       "      <td>53</td>\n",
       "      <td>2.621474e+09</td>\n",
       "      <td>1</td>\n",
       "    </tr>\n",
       "    <tr>\n",
       "      <th>3</th>\n",
       "      <td>150084</td>\n",
       "      <td>2015-04-28 21:13:25</td>\n",
       "      <td>2015-05-04 13:54:50</td>\n",
       "      <td>44</td>\n",
       "      <td>ATGTXKYKUDUQN</td>\n",
       "      <td>SEO</td>\n",
       "      <td>Safari</td>\n",
       "      <td>M</td>\n",
       "      <td>41</td>\n",
       "      <td>3.840542e+09</td>\n",
       "      <td>0</td>\n",
       "    </tr>\n",
       "    <tr>\n",
       "      <th>4</th>\n",
       "      <td>221365</td>\n",
       "      <td>2015-07-21 07:09:52</td>\n",
       "      <td>2015-09-09 18:40:53</td>\n",
       "      <td>39</td>\n",
       "      <td>NAUITBZFJKHWW</td>\n",
       "      <td>Ads</td>\n",
       "      <td>Safari</td>\n",
       "      <td>M</td>\n",
       "      <td>45</td>\n",
       "      <td>4.155831e+08</td>\n",
       "      <td>0</td>\n",
       "    </tr>\n",
       "  </tbody>\n",
       "</table>\n",
       "</div>"
      ],
      "text/plain": [
       "   user_id          signup_time        purchase_time  purchase_value  \\\n",
       "0    22058  2015-02-24 22:55:49  2015-04-18 02:47:11              34   \n",
       "1   333320  2015-06-07 20:39:50  2015-06-08 01:38:54              16   \n",
       "2     1359  2015-01-01 18:52:44  2015-01-01 18:52:45              15   \n",
       "3   150084  2015-04-28 21:13:25  2015-05-04 13:54:50              44   \n",
       "4   221365  2015-07-21 07:09:52  2015-09-09 18:40:53              39   \n",
       "\n",
       "       device_id source browser sex  age    ip_address  class  \n",
       "0  QVPSPJUOCKZAR    SEO  Chrome   M   39  7.327584e+08      0  \n",
       "1  EOGFQPIZPYXFZ    Ads  Chrome   F   53  3.503114e+08      0  \n",
       "2  YSSKYOSJHPPLJ    SEO   Opera   M   53  2.621474e+09      1  \n",
       "3  ATGTXKYKUDUQN    SEO  Safari   M   41  3.840542e+09      0  \n",
       "4  NAUITBZFJKHWW    Ads  Safari   M   45  4.155831e+08      0  "
      ]
     },
     "execution_count": 4,
     "metadata": {},
     "output_type": "execute_result"
    }
   ],
   "source": [
    "data.head()"
   ]
  },
  {
   "cell_type": "code",
   "execution_count": 5,
   "metadata": {
    "collapsed": false
   },
   "outputs": [
    {
     "data": {
      "text/plain": [
       "0    136961\n",
       "1     14151\n",
       "Name: class, dtype: int64"
      ]
     },
     "execution_count": 5,
     "metadata": {},
     "output_type": "execute_result"
    }
   ],
   "source": [
    "#unbalanced class\n",
    "data['class'].value_counts()"
   ]
  },
  {
   "cell_type": "code",
   "execution_count": 6,
   "metadata": {
    "collapsed": false
   },
   "outputs": [
    {
     "data": {
      "text/html": [
       "<div>\n",
       "<table border=\"1\" class=\"dataframe\">\n",
       "  <thead>\n",
       "    <tr style=\"text-align: right;\">\n",
       "      <th></th>\n",
       "      <th>user_id</th>\n",
       "      <th>purchase_value</th>\n",
       "      <th>age</th>\n",
       "      <th>ip_address</th>\n",
       "      <th>class</th>\n",
       "    </tr>\n",
       "  </thead>\n",
       "  <tbody>\n",
       "    <tr>\n",
       "      <th>count</th>\n",
       "      <td>151112.000000</td>\n",
       "      <td>151112.000000</td>\n",
       "      <td>151112.000000</td>\n",
       "      <td>1.511120e+05</td>\n",
       "      <td>151112.000000</td>\n",
       "    </tr>\n",
       "    <tr>\n",
       "      <th>mean</th>\n",
       "      <td>200171.040970</td>\n",
       "      <td>36.935372</td>\n",
       "      <td>33.140704</td>\n",
       "      <td>2.152145e+09</td>\n",
       "      <td>0.093646</td>\n",
       "    </tr>\n",
       "    <tr>\n",
       "      <th>std</th>\n",
       "      <td>115369.285024</td>\n",
       "      <td>18.322762</td>\n",
       "      <td>8.617733</td>\n",
       "      <td>1.248497e+09</td>\n",
       "      <td>0.291336</td>\n",
       "    </tr>\n",
       "    <tr>\n",
       "      <th>min</th>\n",
       "      <td>2.000000</td>\n",
       "      <td>9.000000</td>\n",
       "      <td>18.000000</td>\n",
       "      <td>5.209350e+04</td>\n",
       "      <td>0.000000</td>\n",
       "    </tr>\n",
       "    <tr>\n",
       "      <th>25%</th>\n",
       "      <td>100642.500000</td>\n",
       "      <td>22.000000</td>\n",
       "      <td>27.000000</td>\n",
       "      <td>1.085934e+09</td>\n",
       "      <td>0.000000</td>\n",
       "    </tr>\n",
       "    <tr>\n",
       "      <th>50%</th>\n",
       "      <td>199958.000000</td>\n",
       "      <td>35.000000</td>\n",
       "      <td>33.000000</td>\n",
       "      <td>2.154770e+09</td>\n",
       "      <td>0.000000</td>\n",
       "    </tr>\n",
       "    <tr>\n",
       "      <th>75%</th>\n",
       "      <td>300054.000000</td>\n",
       "      <td>49.000000</td>\n",
       "      <td>39.000000</td>\n",
       "      <td>3.243258e+09</td>\n",
       "      <td>0.000000</td>\n",
       "    </tr>\n",
       "    <tr>\n",
       "      <th>max</th>\n",
       "      <td>400000.000000</td>\n",
       "      <td>154.000000</td>\n",
       "      <td>76.000000</td>\n",
       "      <td>4.294850e+09</td>\n",
       "      <td>1.000000</td>\n",
       "    </tr>\n",
       "  </tbody>\n",
       "</table>\n",
       "</div>"
      ],
      "text/plain": [
       "             user_id  purchase_value            age    ip_address  \\\n",
       "count  151112.000000   151112.000000  151112.000000  1.511120e+05   \n",
       "mean   200171.040970       36.935372      33.140704  2.152145e+09   \n",
       "std    115369.285024       18.322762       8.617733  1.248497e+09   \n",
       "min         2.000000        9.000000      18.000000  5.209350e+04   \n",
       "25%    100642.500000       22.000000      27.000000  1.085934e+09   \n",
       "50%    199958.000000       35.000000      33.000000  2.154770e+09   \n",
       "75%    300054.000000       49.000000      39.000000  3.243258e+09   \n",
       "max    400000.000000      154.000000      76.000000  4.294850e+09   \n",
       "\n",
       "               class  \n",
       "count  151112.000000  \n",
       "mean        0.093646  \n",
       "std         0.291336  \n",
       "min         0.000000  \n",
       "25%         0.000000  \n",
       "50%         0.000000  \n",
       "75%         0.000000  \n",
       "max         1.000000  "
      ]
     },
     "execution_count": 6,
     "metadata": {},
     "output_type": "execute_result"
    }
   ],
   "source": [
    "data.describe()"
   ]
  },
  {
   "cell_type": "markdown",
   "metadata": {},
   "source": [
    "## 2. Data preprocess\n",
    "First, to answer the question 1, determine her country based on the numeric IP address."
   ]
  },
  {
   "cell_type": "code",
   "execution_count": 40,
   "metadata": {
    "collapsed": true
   },
   "outputs": [],
   "source": [
    "#transform to matrix for fast compute \n",
    "IP2 = IP.as_matrix()"
   ]
  },
  {
   "cell_type": "code",
   "execution_count": null,
   "metadata": {
    "collapsed": false
   },
   "outputs": [],
   "source": [
    "#find the country corresponding to ip address\n",
    "country = []\n",
    "for ip in data['ip_address']:\n",
    "    c = IP2[np.add((IP2[:,0] <= ip), (IP2[:,1] >= ip), dtype=np.float) == 2, 2]\n",
    "    if len(c) == 1:\n",
    "        country.append(c)\n",
    "    else:\n",
    "        country.append(None)\n",
    "\n",
    "#append country to dataframe\n",
    "data['country'] = country\n",
    "data['country'] = data['country'].astype(str)\n",
    "\n",
    "#save data to file\n",
    "data.to_csv('fraud_data.csv',index=False)"
   ]
  },
  {
   "cell_type": "code",
   "execution_count": 4,
   "metadata": {
    "collapsed": false
   },
   "outputs": [
    {
     "data": {
      "text/html": [
       "<div>\n",
       "<table border=\"1\" class=\"dataframe\">\n",
       "  <thead>\n",
       "    <tr style=\"text-align: right;\">\n",
       "      <th></th>\n",
       "      <th>user_id</th>\n",
       "      <th>signup_time</th>\n",
       "      <th>purchase_time</th>\n",
       "      <th>purchase_value</th>\n",
       "      <th>device_id</th>\n",
       "      <th>source</th>\n",
       "      <th>browser</th>\n",
       "      <th>sex</th>\n",
       "      <th>age</th>\n",
       "      <th>ip_address</th>\n",
       "      <th>class</th>\n",
       "      <th>country</th>\n",
       "    </tr>\n",
       "  </thead>\n",
       "  <tbody>\n",
       "    <tr>\n",
       "      <th>0</th>\n",
       "      <td>22058</td>\n",
       "      <td>2015-02-24 22:55:49</td>\n",
       "      <td>2015-04-18 02:47:11</td>\n",
       "      <td>34</td>\n",
       "      <td>QVPSPJUOCKZAR</td>\n",
       "      <td>SEO</td>\n",
       "      <td>Chrome</td>\n",
       "      <td>M</td>\n",
       "      <td>39</td>\n",
       "      <td>7.327584e+08</td>\n",
       "      <td>0</td>\n",
       "      <td>['Japan']</td>\n",
       "    </tr>\n",
       "    <tr>\n",
       "      <th>1</th>\n",
       "      <td>333320</td>\n",
       "      <td>2015-06-07 20:39:50</td>\n",
       "      <td>2015-06-08 01:38:54</td>\n",
       "      <td>16</td>\n",
       "      <td>EOGFQPIZPYXFZ</td>\n",
       "      <td>Ads</td>\n",
       "      <td>Chrome</td>\n",
       "      <td>F</td>\n",
       "      <td>53</td>\n",
       "      <td>3.503114e+08</td>\n",
       "      <td>0</td>\n",
       "      <td>['United States']</td>\n",
       "    </tr>\n",
       "    <tr>\n",
       "      <th>2</th>\n",
       "      <td>1359</td>\n",
       "      <td>2015-01-01 18:52:44</td>\n",
       "      <td>2015-01-01 18:52:45</td>\n",
       "      <td>15</td>\n",
       "      <td>YSSKYOSJHPPLJ</td>\n",
       "      <td>SEO</td>\n",
       "      <td>Opera</td>\n",
       "      <td>M</td>\n",
       "      <td>53</td>\n",
       "      <td>2.621474e+09</td>\n",
       "      <td>1</td>\n",
       "      <td>['United States']</td>\n",
       "    </tr>\n",
       "    <tr>\n",
       "      <th>3</th>\n",
       "      <td>150084</td>\n",
       "      <td>2015-04-28 21:13:25</td>\n",
       "      <td>2015-05-04 13:54:50</td>\n",
       "      <td>44</td>\n",
       "      <td>ATGTXKYKUDUQN</td>\n",
       "      <td>SEO</td>\n",
       "      <td>Safari</td>\n",
       "      <td>M</td>\n",
       "      <td>41</td>\n",
       "      <td>3.840542e+09</td>\n",
       "      <td>0</td>\n",
       "      <td>None</td>\n",
       "    </tr>\n",
       "    <tr>\n",
       "      <th>4</th>\n",
       "      <td>221365</td>\n",
       "      <td>2015-07-21 07:09:52</td>\n",
       "      <td>2015-09-09 18:40:53</td>\n",
       "      <td>39</td>\n",
       "      <td>NAUITBZFJKHWW</td>\n",
       "      <td>Ads</td>\n",
       "      <td>Safari</td>\n",
       "      <td>M</td>\n",
       "      <td>45</td>\n",
       "      <td>4.155831e+08</td>\n",
       "      <td>0</td>\n",
       "      <td>['United States']</td>\n",
       "    </tr>\n",
       "  </tbody>\n",
       "</table>\n",
       "</div>"
      ],
      "text/plain": [
       "   user_id          signup_time        purchase_time  purchase_value  \\\n",
       "0    22058  2015-02-24 22:55:49  2015-04-18 02:47:11              34   \n",
       "1   333320  2015-06-07 20:39:50  2015-06-08 01:38:54              16   \n",
       "2     1359  2015-01-01 18:52:44  2015-01-01 18:52:45              15   \n",
       "3   150084  2015-04-28 21:13:25  2015-05-04 13:54:50              44   \n",
       "4   221365  2015-07-21 07:09:52  2015-09-09 18:40:53              39   \n",
       "\n",
       "       device_id source browser sex  age    ip_address  class  \\\n",
       "0  QVPSPJUOCKZAR    SEO  Chrome   M   39  7.327584e+08      0   \n",
       "1  EOGFQPIZPYXFZ    Ads  Chrome   F   53  3.503114e+08      0   \n",
       "2  YSSKYOSJHPPLJ    SEO   Opera   M   53  2.621474e+09      1   \n",
       "3  ATGTXKYKUDUQN    SEO  Safari   M   41  3.840542e+09      0   \n",
       "4  NAUITBZFJKHWW    Ads  Safari   M   45  4.155831e+08      0   \n",
       "\n",
       "             country  \n",
       "0          ['Japan']  \n",
       "1  ['United States']  \n",
       "2  ['United States']  \n",
       "3               None  \n",
       "4  ['United States']  "
      ]
     },
     "execution_count": 4,
     "metadata": {},
     "output_type": "execute_result"
    }
   ],
   "source": [
    "#load data with country\n",
    "data = pd.read_csv('fraud_data.csv')\n",
    "data.head()"
   ]
  },
  {
   "cell_type": "code",
   "execution_count": 5,
   "metadata": {
    "collapsed": false
   },
   "outputs": [
    {
     "data": {
      "text/plain": [
       "(151112, 12)"
      ]
     },
     "execution_count": 5,
     "metadata": {},
     "output_type": "execute_result"
    }
   ],
   "source": [
    "#check if any duplicates\n",
    "df = data\n",
    "df['country']=df['country'].astype(str)\n",
    "df = df.drop_duplicates()\n",
    "df.shape"
   ]
  },
  {
   "cell_type": "code",
   "execution_count": 6,
   "metadata": {
    "collapsed": false
   },
   "outputs": [],
   "source": [
    "#check if any missing values\n",
    "df.isnull().any()\n",
    "df = df.dropna()"
   ]
  },
  {
   "cell_type": "code",
   "execution_count": 7,
   "metadata": {
    "collapsed": false
   },
   "outputs": [
    {
     "data": {
      "text/html": [
       "<div>\n",
       "<table border=\"1\" class=\"dataframe\">\n",
       "  <thead>\n",
       "    <tr style=\"text-align: right;\">\n",
       "      <th></th>\n",
       "      <th>user_id</th>\n",
       "      <th>signup_time</th>\n",
       "      <th>purchase_time</th>\n",
       "      <th>purchase_value</th>\n",
       "      <th>device_id</th>\n",
       "      <th>age</th>\n",
       "      <th>ip_address</th>\n",
       "      <th>class</th>\n",
       "      <th>country</th>\n",
       "      <th>Ads</th>\n",
       "      <th>SEO</th>\n",
       "      <th>Chrome</th>\n",
       "      <th>FireFox</th>\n",
       "      <th>Opera</th>\n",
       "      <th>Safari</th>\n",
       "      <th>M</th>\n",
       "    </tr>\n",
       "  </thead>\n",
       "  <tbody>\n",
       "    <tr>\n",
       "      <th>0</th>\n",
       "      <td>22058</td>\n",
       "      <td>2015-02-24 22:55:49</td>\n",
       "      <td>2015-04-18 02:47:11</td>\n",
       "      <td>34</td>\n",
       "      <td>QVPSPJUOCKZAR</td>\n",
       "      <td>39</td>\n",
       "      <td>7.327584e+08</td>\n",
       "      <td>0</td>\n",
       "      <td>['Japan']</td>\n",
       "      <td>0</td>\n",
       "      <td>1</td>\n",
       "      <td>1</td>\n",
       "      <td>0</td>\n",
       "      <td>0</td>\n",
       "      <td>0</td>\n",
       "      <td>1</td>\n",
       "    </tr>\n",
       "    <tr>\n",
       "      <th>1</th>\n",
       "      <td>333320</td>\n",
       "      <td>2015-06-07 20:39:50</td>\n",
       "      <td>2015-06-08 01:38:54</td>\n",
       "      <td>16</td>\n",
       "      <td>EOGFQPIZPYXFZ</td>\n",
       "      <td>53</td>\n",
       "      <td>3.503114e+08</td>\n",
       "      <td>0</td>\n",
       "      <td>['United States']</td>\n",
       "      <td>1</td>\n",
       "      <td>0</td>\n",
       "      <td>1</td>\n",
       "      <td>0</td>\n",
       "      <td>0</td>\n",
       "      <td>0</td>\n",
       "      <td>0</td>\n",
       "    </tr>\n",
       "    <tr>\n",
       "      <th>2</th>\n",
       "      <td>1359</td>\n",
       "      <td>2015-01-01 18:52:44</td>\n",
       "      <td>2015-01-01 18:52:45</td>\n",
       "      <td>15</td>\n",
       "      <td>YSSKYOSJHPPLJ</td>\n",
       "      <td>53</td>\n",
       "      <td>2.621474e+09</td>\n",
       "      <td>1</td>\n",
       "      <td>['United States']</td>\n",
       "      <td>0</td>\n",
       "      <td>1</td>\n",
       "      <td>0</td>\n",
       "      <td>0</td>\n",
       "      <td>1</td>\n",
       "      <td>0</td>\n",
       "      <td>1</td>\n",
       "    </tr>\n",
       "    <tr>\n",
       "      <th>3</th>\n",
       "      <td>150084</td>\n",
       "      <td>2015-04-28 21:13:25</td>\n",
       "      <td>2015-05-04 13:54:50</td>\n",
       "      <td>44</td>\n",
       "      <td>ATGTXKYKUDUQN</td>\n",
       "      <td>41</td>\n",
       "      <td>3.840542e+09</td>\n",
       "      <td>0</td>\n",
       "      <td>None</td>\n",
       "      <td>0</td>\n",
       "      <td>1</td>\n",
       "      <td>0</td>\n",
       "      <td>0</td>\n",
       "      <td>0</td>\n",
       "      <td>1</td>\n",
       "      <td>1</td>\n",
       "    </tr>\n",
       "    <tr>\n",
       "      <th>4</th>\n",
       "      <td>221365</td>\n",
       "      <td>2015-07-21 07:09:52</td>\n",
       "      <td>2015-09-09 18:40:53</td>\n",
       "      <td>39</td>\n",
       "      <td>NAUITBZFJKHWW</td>\n",
       "      <td>45</td>\n",
       "      <td>4.155831e+08</td>\n",
       "      <td>0</td>\n",
       "      <td>['United States']</td>\n",
       "      <td>1</td>\n",
       "      <td>0</td>\n",
       "      <td>0</td>\n",
       "      <td>0</td>\n",
       "      <td>0</td>\n",
       "      <td>1</td>\n",
       "      <td>1</td>\n",
       "    </tr>\n",
       "  </tbody>\n",
       "</table>\n",
       "</div>"
      ],
      "text/plain": [
       "   user_id          signup_time        purchase_time  purchase_value  \\\n",
       "0    22058  2015-02-24 22:55:49  2015-04-18 02:47:11              34   \n",
       "1   333320  2015-06-07 20:39:50  2015-06-08 01:38:54              16   \n",
       "2     1359  2015-01-01 18:52:44  2015-01-01 18:52:45              15   \n",
       "3   150084  2015-04-28 21:13:25  2015-05-04 13:54:50              44   \n",
       "4   221365  2015-07-21 07:09:52  2015-09-09 18:40:53              39   \n",
       "\n",
       "       device_id  age    ip_address  class            country  Ads  SEO  \\\n",
       "0  QVPSPJUOCKZAR   39  7.327584e+08      0          ['Japan']    0    1   \n",
       "1  EOGFQPIZPYXFZ   53  3.503114e+08      0  ['United States']    1    0   \n",
       "2  YSSKYOSJHPPLJ   53  2.621474e+09      1  ['United States']    0    1   \n",
       "3  ATGTXKYKUDUQN   41  3.840542e+09      0               None    0    1   \n",
       "4  NAUITBZFJKHWW   45  4.155831e+08      0  ['United States']    1    0   \n",
       "\n",
       "   Chrome  FireFox  Opera  Safari  M  \n",
       "0       1        0      0       0  1  \n",
       "1       1        0      0       0  0  \n",
       "2       0        0      1       0  1  \n",
       "3       0        0      0       1  1  \n",
       "4       0        0      0       1  1  "
      ]
     },
     "execution_count": 7,
     "metadata": {},
     "output_type": "execute_result"
    }
   ],
   "source": [
    "#transform all categorical data to numerical\n",
    "for col in ['source','browser','sex']:\n",
    "    dummy = pd.get_dummies(df[col])\n",
    "    df = pd.concat([df,dummy], axis=1)\n",
    "    df = df.drop(col,axis=1)\n",
    "\n",
    "df = df.drop(['F','Direct','IE'],axis=1)\n",
    "df.head()"
   ]
  },
  {
   "cell_type": "code",
   "execution_count": 8,
   "metadata": {
    "collapsed": false
   },
   "outputs": [],
   "source": [
    "#create time col as the time between signup and purchase\n",
    "df['time'] = (pd.to_datetime(df['purchase_time'])-pd.to_datetime(df['signup_time']))/np.timedelta64(1,'h')\n",
    "df = df.drop('purchase_time',axis=1)\n",
    "df = df.drop('signup_time', axis=1)"
   ]
  },
  {
   "cell_type": "code",
   "execution_count": 9,
   "metadata": {
    "collapsed": false
   },
   "outputs": [],
   "source": [
    "#count of users with the same device\n",
    "df['device_count'] = df.groupby(['device_id'])['device_id'].transform('count')\n",
    "\n",
    "#count of users with the same ip\n",
    "df['ip_count'] = df.groupby(['ip_address'])['ip_address'].transform('count')\n",
    "df = df.drop(['device_id','ip_address','user_id'],axis=1)"
   ]
  },
  {
   "cell_type": "code",
   "execution_count": 10,
   "metadata": {
    "collapsed": false
   },
   "outputs": [
    {
     "data": {
      "text/html": [
       "<div>\n",
       "<table border=\"1\" class=\"dataframe\">\n",
       "  <thead>\n",
       "    <tr style=\"text-align: right;\">\n",
       "      <th></th>\n",
       "      <th>purchase_value</th>\n",
       "      <th>age</th>\n",
       "      <th>class</th>\n",
       "      <th>Ads</th>\n",
       "      <th>SEO</th>\n",
       "      <th>Chrome</th>\n",
       "      <th>FireFox</th>\n",
       "      <th>Opera</th>\n",
       "      <th>Safari</th>\n",
       "      <th>M</th>\n",
       "      <th>time</th>\n",
       "      <th>device_count</th>\n",
       "      <th>ip_count</th>\n",
       "    </tr>\n",
       "  </thead>\n",
       "  <tbody>\n",
       "    <tr>\n",
       "      <th>purchase_value</th>\n",
       "      <td>1.000000</td>\n",
       "      <td>0.002370</td>\n",
       "      <td>0.001011</td>\n",
       "      <td>-0.000439</td>\n",
       "      <td>0.000322</td>\n",
       "      <td>0.004355</td>\n",
       "      <td>-0.002140</td>\n",
       "      <td>-0.003304</td>\n",
       "      <td>0.002042</td>\n",
       "      <td>0.001996</td>\n",
       "      <td>0.003441</td>\n",
       "      <td>0.003829</td>\n",
       "      <td>0.003266</td>\n",
       "    </tr>\n",
       "    <tr>\n",
       "      <th>age</th>\n",
       "      <td>0.002370</td>\n",
       "      <td>1.000000</td>\n",
       "      <td>0.006624</td>\n",
       "      <td>-0.000646</td>\n",
       "      <td>-0.002238</td>\n",
       "      <td>-0.001324</td>\n",
       "      <td>-0.000771</td>\n",
       "      <td>-0.008450</td>\n",
       "      <td>0.003857</td>\n",
       "      <td>0.004093</td>\n",
       "      <td>-0.000575</td>\n",
       "      <td>0.012160</td>\n",
       "      <td>0.012170</td>\n",
       "    </tr>\n",
       "    <tr>\n",
       "      <th>class</th>\n",
       "      <td>0.001011</td>\n",
       "      <td>0.006624</td>\n",
       "      <td>1.000000</td>\n",
       "      <td>-0.004393</td>\n",
       "      <td>-0.012251</td>\n",
       "      <td>0.014620</td>\n",
       "      <td>0.002299</td>\n",
       "      <td>-0.002395</td>\n",
       "      <td>-0.005222</td>\n",
       "      <td>0.007639</td>\n",
       "      <td>-0.257888</td>\n",
       "      <td>0.670837</td>\n",
       "      <td>0.658625</td>\n",
       "    </tr>\n",
       "    <tr>\n",
       "      <th>Ads</th>\n",
       "      <td>-0.000439</td>\n",
       "      <td>-0.000646</td>\n",
       "      <td>-0.004393</td>\n",
       "      <td>1.000000</td>\n",
       "      <td>-0.663050</td>\n",
       "      <td>-0.000953</td>\n",
       "      <td>0.002925</td>\n",
       "      <td>-0.003836</td>\n",
       "      <td>-0.000943</td>\n",
       "      <td>-0.000214</td>\n",
       "      <td>-0.002798</td>\n",
       "      <td>0.000793</td>\n",
       "      <td>-0.000143</td>\n",
       "    </tr>\n",
       "    <tr>\n",
       "      <th>SEO</th>\n",
       "      <td>0.000322</td>\n",
       "      <td>-0.002238</td>\n",
       "      <td>-0.012251</td>\n",
       "      <td>-0.663050</td>\n",
       "      <td>1.000000</td>\n",
       "      <td>-0.006734</td>\n",
       "      <td>0.002826</td>\n",
       "      <td>0.004685</td>\n",
       "      <td>0.005166</td>\n",
       "      <td>0.001653</td>\n",
       "      <td>0.004042</td>\n",
       "      <td>-0.003905</td>\n",
       "      <td>-0.003494</td>\n",
       "    </tr>\n",
       "    <tr>\n",
       "      <th>Chrome</th>\n",
       "      <td>0.004355</td>\n",
       "      <td>-0.001324</td>\n",
       "      <td>0.014620</td>\n",
       "      <td>-0.000953</td>\n",
       "      <td>-0.006734</td>\n",
       "      <td>1.000000</td>\n",
       "      <td>-0.365054</td>\n",
       "      <td>-0.130688</td>\n",
       "      <td>-0.365558</td>\n",
       "      <td>-0.000547</td>\n",
       "      <td>-0.012121</td>\n",
       "      <td>0.020336</td>\n",
       "      <td>0.020258</td>\n",
       "    </tr>\n",
       "    <tr>\n",
       "      <th>FireFox</th>\n",
       "      <td>-0.002140</td>\n",
       "      <td>-0.000771</td>\n",
       "      <td>0.002299</td>\n",
       "      <td>0.002925</td>\n",
       "      <td>0.002826</td>\n",
       "      <td>-0.365054</td>\n",
       "      <td>1.000000</td>\n",
       "      <td>-0.069646</td>\n",
       "      <td>-0.194811</td>\n",
       "      <td>0.000388</td>\n",
       "      <td>0.000416</td>\n",
       "      <td>0.004210</td>\n",
       "      <td>0.004467</td>\n",
       "    </tr>\n",
       "    <tr>\n",
       "      <th>Opera</th>\n",
       "      <td>-0.003304</td>\n",
       "      <td>-0.008450</td>\n",
       "      <td>-0.002395</td>\n",
       "      <td>-0.003836</td>\n",
       "      <td>0.004685</td>\n",
       "      <td>-0.130688</td>\n",
       "      <td>-0.069646</td>\n",
       "      <td>1.000000</td>\n",
       "      <td>-0.069742</td>\n",
       "      <td>0.005417</td>\n",
       "      <td>0.001476</td>\n",
       "      <td>-0.001785</td>\n",
       "      <td>-0.001912</td>\n",
       "    </tr>\n",
       "    <tr>\n",
       "      <th>Safari</th>\n",
       "      <td>0.002042</td>\n",
       "      <td>0.003857</td>\n",
       "      <td>-0.005222</td>\n",
       "      <td>-0.000943</td>\n",
       "      <td>0.005166</td>\n",
       "      <td>-0.365558</td>\n",
       "      <td>-0.194811</td>\n",
       "      <td>-0.069742</td>\n",
       "      <td>1.000000</td>\n",
       "      <td>-0.001658</td>\n",
       "      <td>0.009258</td>\n",
       "      <td>-0.009957</td>\n",
       "      <td>-0.010119</td>\n",
       "    </tr>\n",
       "    <tr>\n",
       "      <th>M</th>\n",
       "      <td>0.001996</td>\n",
       "      <td>0.004093</td>\n",
       "      <td>0.007639</td>\n",
       "      <td>-0.000214</td>\n",
       "      <td>0.001653</td>\n",
       "      <td>-0.000547</td>\n",
       "      <td>0.000388</td>\n",
       "      <td>0.005417</td>\n",
       "      <td>-0.001658</td>\n",
       "      <td>1.000000</td>\n",
       "      <td>-0.005212</td>\n",
       "      <td>0.006759</td>\n",
       "      <td>0.006580</td>\n",
       "    </tr>\n",
       "    <tr>\n",
       "      <th>time</th>\n",
       "      <td>0.003441</td>\n",
       "      <td>-0.000575</td>\n",
       "      <td>-0.257888</td>\n",
       "      <td>-0.002798</td>\n",
       "      <td>0.004042</td>\n",
       "      <td>-0.012121</td>\n",
       "      <td>0.000416</td>\n",
       "      <td>0.001476</td>\n",
       "      <td>0.009258</td>\n",
       "      <td>-0.005212</td>\n",
       "      <td>1.000000</td>\n",
       "      <td>-0.331897</td>\n",
       "      <td>-0.335052</td>\n",
       "    </tr>\n",
       "    <tr>\n",
       "      <th>device_count</th>\n",
       "      <td>0.003829</td>\n",
       "      <td>0.012160</td>\n",
       "      <td>0.670837</td>\n",
       "      <td>0.000793</td>\n",
       "      <td>-0.003905</td>\n",
       "      <td>0.020336</td>\n",
       "      <td>0.004210</td>\n",
       "      <td>-0.001785</td>\n",
       "      <td>-0.009957</td>\n",
       "      <td>0.006759</td>\n",
       "      <td>-0.331897</td>\n",
       "      <td>1.000000</td>\n",
       "      <td>0.991083</td>\n",
       "    </tr>\n",
       "    <tr>\n",
       "      <th>ip_count</th>\n",
       "      <td>0.003266</td>\n",
       "      <td>0.012170</td>\n",
       "      <td>0.658625</td>\n",
       "      <td>-0.000143</td>\n",
       "      <td>-0.003494</td>\n",
       "      <td>0.020258</td>\n",
       "      <td>0.004467</td>\n",
       "      <td>-0.001912</td>\n",
       "      <td>-0.010119</td>\n",
       "      <td>0.006580</td>\n",
       "      <td>-0.335052</td>\n",
       "      <td>0.991083</td>\n",
       "      <td>1.000000</td>\n",
       "    </tr>\n",
       "  </tbody>\n",
       "</table>\n",
       "</div>"
      ],
      "text/plain": [
       "                purchase_value       age     class       Ads       SEO  \\\n",
       "purchase_value        1.000000  0.002370  0.001011 -0.000439  0.000322   \n",
       "age                   0.002370  1.000000  0.006624 -0.000646 -0.002238   \n",
       "class                 0.001011  0.006624  1.000000 -0.004393 -0.012251   \n",
       "Ads                  -0.000439 -0.000646 -0.004393  1.000000 -0.663050   \n",
       "SEO                   0.000322 -0.002238 -0.012251 -0.663050  1.000000   \n",
       "Chrome                0.004355 -0.001324  0.014620 -0.000953 -0.006734   \n",
       "FireFox              -0.002140 -0.000771  0.002299  0.002925  0.002826   \n",
       "Opera                -0.003304 -0.008450 -0.002395 -0.003836  0.004685   \n",
       "Safari                0.002042  0.003857 -0.005222 -0.000943  0.005166   \n",
       "M                     0.001996  0.004093  0.007639 -0.000214  0.001653   \n",
       "time                  0.003441 -0.000575 -0.257888 -0.002798  0.004042   \n",
       "device_count          0.003829  0.012160  0.670837  0.000793 -0.003905   \n",
       "ip_count              0.003266  0.012170  0.658625 -0.000143 -0.003494   \n",
       "\n",
       "                  Chrome   FireFox     Opera    Safari         M      time  \\\n",
       "purchase_value  0.004355 -0.002140 -0.003304  0.002042  0.001996  0.003441   \n",
       "age            -0.001324 -0.000771 -0.008450  0.003857  0.004093 -0.000575   \n",
       "class           0.014620  0.002299 -0.002395 -0.005222  0.007639 -0.257888   \n",
       "Ads            -0.000953  0.002925 -0.003836 -0.000943 -0.000214 -0.002798   \n",
       "SEO            -0.006734  0.002826  0.004685  0.005166  0.001653  0.004042   \n",
       "Chrome          1.000000 -0.365054 -0.130688 -0.365558 -0.000547 -0.012121   \n",
       "FireFox        -0.365054  1.000000 -0.069646 -0.194811  0.000388  0.000416   \n",
       "Opera          -0.130688 -0.069646  1.000000 -0.069742  0.005417  0.001476   \n",
       "Safari         -0.365558 -0.194811 -0.069742  1.000000 -0.001658  0.009258   \n",
       "M              -0.000547  0.000388  0.005417 -0.001658  1.000000 -0.005212   \n",
       "time           -0.012121  0.000416  0.001476  0.009258 -0.005212  1.000000   \n",
       "device_count    0.020336  0.004210 -0.001785 -0.009957  0.006759 -0.331897   \n",
       "ip_count        0.020258  0.004467 -0.001912 -0.010119  0.006580 -0.335052   \n",
       "\n",
       "                device_count  ip_count  \n",
       "purchase_value      0.003829  0.003266  \n",
       "age                 0.012160  0.012170  \n",
       "class               0.670837  0.658625  \n",
       "Ads                 0.000793 -0.000143  \n",
       "SEO                -0.003905 -0.003494  \n",
       "Chrome              0.020336  0.020258  \n",
       "FireFox             0.004210  0.004467  \n",
       "Opera              -0.001785 -0.001912  \n",
       "Safari             -0.009957 -0.010119  \n",
       "M                   0.006759  0.006580  \n",
       "time               -0.331897 -0.335052  \n",
       "device_count        1.000000  0.991083  \n",
       "ip_count            0.991083  1.000000  "
      ]
     },
     "execution_count": 10,
     "metadata": {},
     "output_type": "execute_result"
    }
   ],
   "source": [
    "#use df1 for model with all numerical \n",
    "df1 = df\n",
    "df1 = df1.drop('country',axis=1)\n",
    "\n",
    "#find obvious correlation\n",
    "df1.corr()"
   ]
  },
  {
   "cell_type": "code",
   "execution_count": 11,
   "metadata": {
    "collapsed": true
   },
   "outputs": [],
   "source": [
    "#drop device_count as it has high correlation with ip_count\n",
    "df1 = df1.drop('device_count',axis=1)"
   ]
  },
  {
   "cell_type": "code",
   "execution_count": 12,
   "metadata": {
    "collapsed": false
   },
   "outputs": [
    {
     "data": {
      "text/plain": [
       "(array([  2.14530000e+04,   3.41450000e+04,   3.87810000e+04,\n",
       "          3.08190000e+04,   1.49290000e+04,   7.98300000e+03,\n",
       "          2.44900000e+03,   4.91000000e+02,   5.50000000e+01,\n",
       "          7.00000000e+00]),\n",
       " array([ 18. ,  23.8,  29.6,  35.4,  41.2,  47. ,  52.8,  58.6,  64.4,\n",
       "         70.2,  76. ]),\n",
       " <a list of 10 Patch objects>)"
      ]
     },
     "execution_count": 12,
     "metadata": {},
     "output_type": "execute_result"
    },
    {
     "data": {
      "image/png": "[encoded data removed]",
      "text/plain": [
       "<matplotlib.figure.Figure at 0x1036d57d0>"
      ]
     },
     "metadata": {},
     "output_type": "display_data"
    }
   ],
   "source": [
    "#visualization\n",
    "fig,ax = plt.subplots(2,2,figsize=(16,8))\n",
    "ax[0,0].hist(df1.purchase_value)\n",
    "ax[0,1].hist(df1.time)\n",
    "ax[1,0].hist(df1.ip_count)\n",
    "ax[1,1].hist(df1.age)"
   ]
  },
  {
   "cell_type": "code",
   "execution_count": 13,
   "metadata": {
    "collapsed": false
   },
   "outputs": [
    {
     "data": {
      "text/plain": [
       "(array([ 136961.,       0.,       0.,       0.,       0.,       0.,\n",
       "              0.,       0.,       0.,   14151.]),\n",
       " array([ 0. ,  0.1,  0.2,  0.3,  0.4,  0.5,  0.6,  0.7,  0.8,  0.9,  1. ]),\n",
       " <a list of 10 Patch objects>)"
      ]
     },
     "execution_count": 13,
     "metadata": {},
     "output_type": "execute_result"
    },
    {
     "data": {
      "image/png": "[encoded data removed]",
      "text/plain": [
       "<matplotlib.figure.Figure at 0x11575ca50>"
      ]
     },
     "metadata": {},
     "output_type": "display_data"
    }
   ],
   "source": [
    "plt.hist(df1['class'])"
   ]
  },
  {
   "cell_type": "markdown",
   "metadata": {},
   "source": [
    "## 3. Models\n",
    "1. Start with logistic regression+lasso using balanced weights;\n",
    "2. Random forest including country information;"
   ]
  },
  {
   "cell_type": "code",
   "execution_count": 62,
   "metadata": {
    "collapsed": true
   },
   "outputs": [],
   "source": [
    "from sklearn.model_selection import train_test_split\n",
    "from sklearn.linear_model import LogisticRegression\n",
    "from sklearn.metrics import f1_score,roc_curve,auc,confusion_matrix\n",
    "from sklearn.ensemble import RandomForestClassifier"
   ]
  },
  {
   "cell_type": "code",
   "execution_count": 108,
   "metadata": {
    "collapsed": true
   },
   "outputs": [],
   "source": [
    "#prepare X and y\n",
    "y = df1['class']\n",
    "\n",
    "#set ip counts into two categories\n",
    "#X.ip_count.value_counts()\n",
    "#X[X.ip_count==1] = 0\n",
    "#X[X.ip_count>1] = 1\n",
    "#X.ip_count.value_counts()\n",
    "\n",
    "X = df1.drop('class',axis=1)\n",
    "#scaler = StandardScaler().fit(X)\n",
    "#X_scale = scaler.transform(X)\n",
    "\n",
    "#prepare train and test\n",
    "X_train, X_test, y_train, y_test = train_test_split(X,y,test_size=0.3,random_state=0)"
   ]
  },
  {
   "cell_type": "code",
   "execution_count": 109,
   "metadata": {
    "collapsed": true
   },
   "outputs": [],
   "source": [
    "#logistic regression + lasso\n",
    "model = LogisticRegression(penalty='l1',class_weight='balanced',random_state=0)\n",
    "solution = model.fit(X_train, y_train)"
   ]
  },
  {
   "cell_type": "code",
   "execution_count": 110,
   "metadata": {
    "collapsed": false
   },
   "outputs": [
    {
     "data": {
      "text/plain": [
       "0.77589644227856802"
      ]
     },
     "execution_count": 110,
     "metadata": {},
     "output_type": "execute_result"
    }
   ],
   "source": [
    "#roc curve\n",
    "y_pred = solution.predict_proba(X_test)\n",
    "y_scores = pd.DataFrame(y_pred)[1]\n",
    "fpr, tpr, thresholds = roc_curve(y_test.ravel(),y_scores.ravel())\n",
    "auc(fpr,tpr)"
   ]
  },
  {
   "cell_type": "code",
   "execution_count": 111,
   "metadata": {
    "collapsed": false
   },
   "outputs": [
    {
     "name": "stdout",
     "output_type": "stream",
     "text": [
      "The AUC is 0.775896\n"
     ]
    },
    {
     "data": {
      "image/png": "[encoded data removed]",
      "text/plain": [
       "<matplotlib.figure.Figure at 0x11a59c210>"
      ]
     },
     "metadata": {},
     "output_type": "display_data"
    }
   ],
   "source": [
    "#plot ROC curve\n",
    "plt.figure()\n",
    "plt.plot(fpr,tpr,label='ROC curve (area = 0.77)',linestyle=':',linewidth=4,color='navy')\n",
    "plt.plot([0,1],[0,1],'k--',lw=2)\n",
    "plt.xlim([0.0,1.0])\n",
    "plt.ylim([0.0,1.05])\n",
    "plt.xlabel('False Positive Rate')\n",
    "plt.ylabel('True Positive Rate')\n",
    "plt.title('Receiving operating characteristic')\n",
    "plt.legend(loc='lower right')\n",
    "print \"The AUC is %f\" % (auc(fpr,tpr))"
   ]
  },
  {
   "cell_type": "code",
   "execution_count": 92,
   "metadata": {
    "collapsed": false
   },
   "outputs": [
    {
     "name": "stdout",
     "output_type": "stream",
     "text": [
      "The f score is 0.688288 \n",
      "[[40966   211]\n",
      " [ 1865  2292]]\n"
     ]
    }
   ],
   "source": [
    "#f score\n",
    "y_pred_class = solution.predict(X_test)\n",
    "print \"The f score is %f \" %(f1_score(y_test, y_pred_class))\n",
    "\n",
    "#confusion matrix\n",
    "cm = confusion_matrix(y_test,y_pred_class)\n",
    "print cm"
   ]
  },
  {
   "cell_type": "code",
   "execution_count": 93,
   "metadata": {
    "collapsed": false
   },
   "outputs": [
    {
     "name": "stdout",
     "output_type": "stream",
     "text": [
      "The AUC is 0.775764890996.\n",
      "The confusion matrix is below:\n",
      "[[41074   103]\n",
      " [ 1866  2291]]\n"
     ]
    }
   ],
   "source": [
    "#random forest\n",
    "clf = RandomForestClassifier(random_state=0)\n",
    "solution_rf = clf.fit(X_train,y_train)\n",
    "\n",
    "#roc curve\n",
    "y_pred_rf = solution_rf.predict_proba(X_test)\n",
    "y_scores_rf = pd.DataFrame(y_pred_rf)[1]\n",
    "fpr, tpr, thresholds = roc_curve(y_test.ravel(),y_scores_rf.ravel())\n",
    "y_pred_class_rf = solution_rf.predict(X_test)\n",
    "cm_rf = confusion_matrix(y_test,y_pred_class_rf)\n",
    "\n",
    "print 'The AUC is %s.' %auc(fpr,tpr)\n",
    "print 'The confusion matrix is below:'\n",
    "print cm_rf"
   ]
  },
  {
   "cell_type": "code",
   "execution_count": 94,
   "metadata": {
    "collapsed": false
   },
   "outputs": [
    {
     "name": "stdout",
     "output_type": "stream",
     "text": [
      "          features  importance\n",
      "9             time    0.705013\n",
      "0   purchase_value    0.120039\n",
      "1              age    0.089358\n",
      "10        ip_count    0.067193\n",
      "4           Chrome    0.004800\n",
      "8                M    0.004243\n",
      "5          FireFox    0.002695\n",
      "7           Safari    0.002566\n",
      "3              SEO    0.001678\n",
      "2              Ads    0.001227\n",
      "6            Opera    0.001187\n"
     ]
    }
   ],
   "source": [
    "#feature importance \n",
    "feature_importance = feature_importance.sort_values(by='importance',ascending=False)\n",
    "print feature_importance"
   ]
  },
  {
   "cell_type": "code",
   "execution_count": 15,
   "metadata": {
    "collapsed": false
   },
   "outputs": [
    {
     "data": {
      "text/plain": [
       "<seaborn.axisgrid.FacetGrid at 0x11ebe88d0>"
      ]
     },
     "execution_count": 15,
     "metadata": {},
     "output_type": "execute_result"
    },
    {
     "data": {
      "image/png": "[encoded data removed]",
      "text/plain": [
       "<matplotlib.figure.Figure at 0x11ebe8090>"
      ]
     },
     "metadata": {},
     "output_type": "display_data"
    }
   ],
   "source": [
    "#the longer the time, the more likely to be fraud\n",
    "sns.factorplot(x='time',y='class',data=df1.head())"
   ]
  },
  {
   "cell_type": "code",
   "execution_count": 16,
   "metadata": {
    "collapsed": false
   },
   "outputs": [
    {
     "data": {
      "text/plain": [
       "<seaborn.axisgrid.FacetGrid at 0x11ed550d0>"
      ]
     },
     "execution_count": 16,
     "metadata": {},
     "output_type": "execute_result"
    },
    {
     "data": {
      "image/png": "[encoded data removed]",
      "text/plain": [
       "<matplotlib.figure.Figure at 0x11ed11110>"
      ]
     },
     "metadata": {},
     "output_type": "display_data"
    }
   ],
   "source": [
    "sns.factorplot(x='purchase_value',y='class',data=df1.head())"
   ]
  },
  {
   "cell_type": "markdown",
   "metadata": {},
   "source": [
    "## 4. Conclusions\n",
    "To detect fraud, the two most important variables are the time between signing up and making a purchase, and the purchase amount. Other factors include the number of accounts associated with one ip address, and age."
   ]
  }
 ],
 "metadata": {
  "kernelspec": {
   "display_name": "Python 2",
   "language": "python",
   "name": "python2"
  },
  "language_info": {
   "codemirror_mode": {
    "name": "ipython",
    "version": 2
   },
   "file_extension": ".py",
   "mimetype": "text/x-python",
   "name": "python",
   "nbconvert_exporter": "python",
   "pygments_lexer": "ipython2",
   "version": "2.7.12"
  }
 },
 "nbformat": 4,
 "nbformat_minor": 0
}
